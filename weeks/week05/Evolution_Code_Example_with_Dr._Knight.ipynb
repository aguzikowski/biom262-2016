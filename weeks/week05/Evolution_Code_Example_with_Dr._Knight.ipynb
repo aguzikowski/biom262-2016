{
 "cells": [
  {
   "cell_type": "code",
   "execution_count": 18,
   "metadata": {
    "collapsed": true
   },
   "outputs": [],
   "source": [
    "#!/usr/bin/env python\n",
    "from random import choice, random"
   ]
  },
  {
   "cell_type": "code",
   "execution_count": 19,
   "metadata": {
    "collapsed": true
   },
   "outputs": [],
   "source": [
    "ALPHABET = 'abcdefghijklmnopqrstuvwxyz '"
   ]
  },
  {
   "cell_type": "code",
   "execution_count": 20,
   "metadata": {
    "collapsed": false
   },
   "outputs": [],
   "source": [
    "def initialize(parent, num):\n",
    "    \"\"\"Returns num random sequences the length of parent.\"\"\"\n",
    "    return [[choice(ALPHABET) for i in range (len(parent))] for seq in range(num)]"
   ]
  },
  {
   "cell_type": "code",
   "execution_count": 21,
   "metadata": {
    "collapsed": true
   },
   "outputs": [],
   "source": [
    "def score(seq, target):\n",
    "    \"\"\"Returns number of differences between seq and target.\"\"\"\n",
    "    return sum(map(int, [a !=b for a, b in zip(seq, target)]))"
   ]
  },
  {
   "cell_type": "code",
   "execution_count": 22,
   "metadata": {
    "collapsed": true
   },
   "outputs": [],
   "source": [
    "def select(population, scores):\n",
    "    \"\"\"Returns bet sequence and score from popultion.\"\"\"\n",
    "    scored = list(zip(scores, population))\n",
    "    scored.sort()\n",
    "    return scored [0]"
   ]
  },
  {
   "cell_type": "code",
   "execution_count": 23,
   "metadata": {
    "collapsed": true
   },
   "outputs": [],
   "source": [
    "def breed(parent, num, mutation_rate):\n",
    "    \"\"\"Returns num copies of parent with mutation_rate changes per letter.\"\"\"\n",
    "    result = []\n",
    "    length = len(parent)\n",
    "    for seq in range(num):\n",
    "        curr = parent[:]\n",
    "        for pos in range(length):\n",
    "            if random() <= mutation_rate: curr[pos] = choice(ALPHABET)\n",
    "        result.append(curr)\n",
    "    return result"
   ]
  },
  {
   "cell_type": "code",
   "execution_count": 24,
   "metadata": {
    "collapsed": false
   },
   "outputs": [],
   "source": [
    "def evolve(target, num=10000, mutation_rate=0.01, generation=0):\n",
    "    \"\"\"Evolves random sequences towards seed, using ALPHABET.\"\"\"\n",
    "    population = initialize(target, num)\n",
    "    while 1:\n",
    "        scores = [score(seq, target) for seq in population]\n",
    "        best_score, best_seq = select(population, scores)\n",
    "        print (generation, '\\t', best_score, '\\t', ''.join(best_seq))\n",
    "        if best_score == 0: break\n",
    "        population = breed(best_seq, num, mutation_rate)\n",
    "        generation += 1"
   ]
  },
  {
   "cell_type": "code",
   "execution_count": 25,
   "metadata": {
    "collapsed": false
   },
   "outputs": [
    {
     "name": "stdout",
     "output_type": "stream",
     "text": [
      "0 \t 53 \t ejzufwokif dmylrgyumzxboancvbo equkblflaelzvysyitefpakkrjgucco \n",
      "1 \t 52 \t cjzhfwokif dmylrgyumzxboancvbo equkblflaelzvysyitefpakkrjgucco \n",
      "2 \t 50 \t cjzhfwokif bmylrgyumzxboancvbi equkblflaelzvysygtefpakkrjgucco \n",
      "3 \t 48 \t cjzhfwokif biylrgyumzxboancvbi equkblflaelzvysyghefpakkrjgucco \n",
      "4 \t 46 \t cjzhfwokif biolrgyumzxboanclbi eqckblflaelzvysyghefpakkrjgucco \n",
      "5 \t 45 \t cjthfwokif biolrgyumzxboa clbi eqckblflhelzvysyghefpakkrjgucco \n",
      "6 \t 44 \t ccthfwokif biolrgyumzxboa clsi eqckblflhelzvysyghefpakkrjgucco \n",
      "7 \t 42 \t ccthflokif biolrgyumzxbo  clsi eqckblflhelzv syghefpakkrjgucco \n",
      "8 \t 41 \t c thflokif biolrgyumzxbo  clsi eqckblflnelzv syghefpakkrjgucco \n",
      "9 \t 39 \t c thflokif biolrgyumzxbo  clsi eqckblfln lzv syghefpakkrjguccon\n",
      "10 \t 38 \t c th lokif biolrgyumzxbo  clsi eqckblfln lzv lyghefpakkrjguccon\n",
      "11 \t 37 \t c th lgkif biolrgyumzxbo  clsi eqckblfln lzv lyghefpakkrjguccon\n",
      "12 \t 35 \t c th lgkif biolrgyumzxbo  clsi eqckblfln lzv lyghefoakkvjguccon\n",
      "13 \t 33 \t c th lgkif biolrgyumzxbo sclsi eqckblfln lhv lyghefoakkvjguccon\n",
      "14 \t 31 \t c th lgkin biolrgyumzxeo sclsi eqckblfln lhv lyghefoakkvjguccon\n",
      "15 \t 30 \t c th lg in biolrgyumzxeo sclsi eqckblfln lhv lyghefoakkvjguccon\n",
      "16 \t 29 \t a th lg in biolrgyumzkeo sclsi eqckblfln lhv lyghefoakkvjguccon\n",
      "17 \t 27 \t a th lg in biolrgyumzkeo sclsi eqckbl ln lhv lyghefoakkvoguccon\n",
      "18 \t 26 \t a th lg in biologyumzkeo sclsi eqckbl ln lhv lyghefoakkvoguccon\n",
      "19 \t 25 \t a th kg in biologyumakeo sclsi eqckbl ln lhv lyghefoakkvogucvon\n",
      "20 \t 23 \t a th kg in biologyumakeo sclsi e cebl ln lhe lyghefoakkvogucvon\n",
      "21 \t 21 \t a th kg in biologyumakes sclsi e cebl ln lhe lyghtfoakkvoguzvon\n",
      "22 \t 20 \t a th kg in biology makes sclsi e cebl ln lhe lyghtfoakkvoguzvon\n",
      "23 \t 18 \t a th kg in biology makes sclsi excebl ln lhe lyghtfoakevoguzvon\n",
      "24 \t 17 \t a th kg in biology makes sclse excebl ln lhe lyghtfoakevoguzvon\n",
      "25 \t 16 \t a th kg in biology makes sclse excebl in lhe lyghtfoakevoguzvon\n",
      "26 \t 15 \t a th kg in biology makes sclse excebl in lhe lightfoakevoguzvon\n",
      "27 \t 13 \t a th kg in biology makes sclse excebl in lhe light oakevogutvon\n",
      "28 \t 12 \t a th kg in biology makes sclse excebl in ihe light oakevolutvon\n",
      "29 \t 11 \t a th fg in biology makes sclse excepl in ihe light oakevolutvon\n",
      "30 \t 10 \t a th fg in biology makes sclse excepl in ihe light oa evolutvon\n",
      "31 \t 9 \t a th fg in biology makes sclse excepl in ihe light oa evolution\n",
      "32 \t 8 \t a th fg in biology makes sclse excepl in ihe light of evolution\n",
      "33 \t 7 \t a th fg in biology makes sclse excepl in the light of evolution\n",
      "34 \t 6 \t a th fg in biology makes sclse except in the light of evolution\n",
      "35 \t 5 \t a th fg in biology makes scnse except in the light of evolution\n",
      "36 \t 4 \t a th fg in biology makes sense except in the light of evolution\n",
      "37 \t 3 \t a th ng in biology makes sense except in the light of evolution\n",
      "38 \t 2 \t a thing in biology makes sense except in the light of evolution\n",
      "39 \t 1 \t aothing in biology makes sense except in the light of evolution\n",
      "40 \t 0 \t nothing in biology makes sense except in the light of evolution\n"
     ]
    }
   ],
   "source": [
    "evolve ('nothing in biology makes sense except in the light of evolution')                                                                      "
   ]
  },
  {
   "cell_type": "code",
   "execution_count": null,
   "metadata": {
    "collapsed": true
   },
   "outputs": [],
   "source": []
  }
 ],
 "metadata": {
  "kernelspec": {
   "display_name": "Python 3",
   "language": "python",
   "name": "python3"
  },
  "language_info": {
   "codemirror_mode": {
    "name": "ipython",
    "version": 3
   },
   "file_extension": ".py",
   "mimetype": "text/x-python",
   "name": "python",
   "nbconvert_exporter": "python",
   "pygments_lexer": "ipython3",
   "version": "3.5.1"
  }
 },
 "nbformat": 4,
 "nbformat_minor": 0
}
