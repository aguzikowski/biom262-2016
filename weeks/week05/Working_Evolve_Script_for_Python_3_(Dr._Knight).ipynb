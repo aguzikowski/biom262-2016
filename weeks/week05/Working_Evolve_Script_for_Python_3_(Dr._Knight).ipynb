{
 "cells": [
  {
   "cell_type": "code",
   "execution_count": 7,
   "metadata": {
    "collapsed": false
   },
   "outputs": [
    {
     "name": "stdout",
     "output_type": "stream",
     "text": [
      "0 \t 53 \t bvpesngfqntqtchl gymaumy imgc jdlvqmpsfnftgkarbzacylutb odhqidy\n",
      "1 \t 51 \t bvpesngfqntqtchl gymaumy imgc jdlvqmpsinftgkarbzacylutb olhqidy\n",
      "2 \t 49 \t bvpesngfqntqtchl gymaumy ilgc jdlvqmpsinftgkarbzacylu b olhqioy\n",
      "3 \t 47 \t bvpesngfqntqtchl gymaumy ilgc jdlvqmpsinftgkarbzacylu evolhqioy\n",
      "4 \t 45 \t bvpesngfintqtchlggymaumy ilgc jdlvqmpsinftgkarbzacylu evolhqioy\n",
      "5 \t 43 \t bvpesngfintqtchlggqmaumy iegc jdlvqmpsinftgk rbzacylu evolhqioy\n",
      "6 \t 42 \t bopesngfintqtchlggqmaumy iegc jdlvqmpsinftgk rbzacylu evolhqioy\n",
      "7 \t 41 \t bopeingfintqtchlggqmaumy iegc jdlvqmpsinftgk rbzacylu evolhqioy\n",
      "8 \t 39 \t bopeingfintqtcllggqmaumy iegc  dlvqmpsinftgk rbzacylu evolhqioy\n",
      "9 \t 37 \t bopeingfintqtcllggqmaumy iegs  dlvqmtsinftgk rbzacylu evolhqioy\n",
      "10 \t 34 \t bopeingfintqtcllggqmauny iegs  dlvqmtsinftgk lbzacylf evoluqioy\n",
      "11 \t 33 \t bofeingfintqtcllggqmauey iegs  dlvqmtsinftgk lbzacylf evoluqioy\n",
      "12 \t 32 \t bofeing intqtcllggqmauey iegs  dlvqmtsinftgk lbzacylf evoluqioy\n",
      "13 \t 30 \t bofeing intqtcllggqmauey iens  dlvqmtsinftgk lbgacylf evoluqioy\n",
      "14 \t 29 \t bofeing in qtclaggqmauey iens  dlvqmtsinftgk lbgacylf evoluqioy\n",
      "15 \t 28 \t bofeing in btclaggqmauey iens  dlvqmtsinftgk lbgacylf evoluqioy\n",
      "16 \t 27 \t bofeing in beclaggqmauey iens  dlvqmtsinftgk lbgacyof evoluqioy\n",
      "17 \t 25 \t nofhing in beclaggqmauey iens  dlvqmtsinftgk lbgacyof evoluqioy\n",
      "18 \t 24 \t nofhing in beclagg mauey iens  dlvqmtsinftgk lbgacyof evoluqioy\n",
      "19 \t 23 \t nofhing in beclagg maues iens  dlvzmtsinftgk lbgacyof evoluqioy\n",
      "20 \t 21 \t nofhing in beclagg maues iens  dlvzptsinftge lbgacyof evoluqioy\n",
      "21 \t 20 \t nofhing in beclagg makes iens  dlvzptsinftge lbgacyof evoluqioy\n",
      "22 \t 19 \t nofhing in beclaga makes iens  dlczptsinftge lbgacyof evoluqioy\n",
      "23 \t 18 \t nofhing in beclaga makes iens  dlceptsinftge lbgacyof evoluqioy\n",
      "24 \t 17 \t nofhing in bbclaga makes iense dlceptsinftge lbgacyof evoluqiox\n",
      "25 \t 16 \t nofhing in bbclaga makes iense dlcept inftge lbgacyof evoluqiox\n",
      "26 \t 15 \t nofhing in bbclaga makes iense dlcept in tge lbgacyof evoluqiox\n",
      "27 \t 14 \t nofhing in bbclaga makes iense dlcept in tge lbgacyof evoluqion\n",
      "28 \t 13 \t nofhing in bbclaga makes iense alcept in tge lbgatyof evoluqion\n",
      "29 \t 12 \t nofhing in bbclaga makes iense alcept in tge lbgat of evoluqion\n",
      "30 \t 11 \t nofhing in bbclaga makes iense alcept in tge lbgat of evolution\n",
      "31 \t 10 \t nofhing in bbclaga makes iense alcept in tge lbght of evolution\n",
      "32 \t 9 \t nofhing in bbclaga makes iense alcept in tge light of evolution\n",
      "33 \t 8 \t nofhing in bbclaga makes iense alcept in the light of evolution\n",
      "34 \t 7 \t nofhing in bbclaga makes iense axcept in the light of evolution\n",
      "35 \t 6 \t nofhing in bbclaga makes iense except in the light of evolution\n",
      "36 \t 5 \t nofhing in bbclagy makes iense except in the light of evolution\n",
      "37 \t 4 \t nofhing in bbclagy makes sense except in the light of evolution\n",
      "38 \t 3 \t nofhing in bbolagy makes sense except in the light of evolution\n",
      "39 \t 2 \t nofhing in bbology makes sense except in the light of evolution\n",
      "40 \t 1 \t nofhing in biology makes sense except in the light of evolution\n",
      "41 \t 0 \t nothing in biology makes sense except in the light of evolution\n"
     ]
    }
   ],
   "source": [
    "#!/usr/bin/env python\n",
    "from random import choice, random\n",
    "\n",
    "ALPHABET = 'abcdefghijklmnopqrstuvwxyz '\n",
    "\n",
    "def initialize(parent, num):\n",
    "    \"\"\"Returns num random sequences the length of parent.\"\"\"\n",
    "    return [[choice(ALPHABET) for i in range(len(parent))] for seq in range(num)]\n",
    "\n",
    "def score(seq, target):\n",
    "    \"\"\"Returns number of differences between seq and target.\"\"\"\n",
    "    return sum(map(int, [a != b for a, b in zip(seq, target)]))\n",
    "\n",
    "def select(population, scores):\n",
    "    \"\"\"Returns best sequence and score from population.\"\"\"\n",
    "    scored = list(zip(scores, population))\n",
    "    scored.sort()\n",
    "    return scored[0]\n",
    "\n",
    "def breed(parent, num, mutation_rate):\n",
    "    \"\"\"Returns num copies of parent with mutation_rate changes per letter.\"\"\"\n",
    "    result = []\n",
    "    length = len(parent)\n",
    "    for seq in range(num):\n",
    "        curr = parent[:]\n",
    "        for pos in range(length):\n",
    "            if random() <= mutation_rate: curr[pos] = choice(ALPHABET)\n",
    "        result.append(curr)\n",
    "    return result\n",
    "\n",
    "def evolve(target, num=10000, mutation_rate=0.01, generation=0):\n",
    "    \"\"\"Evolves random sequences towards seed, using ALPHABET.\"\"\"\n",
    "    population = initialize(target, num)\n",
    "    while 1:\n",
    "        scores = [score(seq, target) for seq in population]\n",
    "        best_score, best_seq = select(population, scores)\n",
    "        print (generation, '\\t', best_score, '\\t', ''.join(best_seq))\n",
    "        if best_score == 0: break\n",
    "        population = breed(best_seq, num, mutation_rate)\n",
    "        generation += 1\n",
    "\n",
    "evolve ('nothing in biology makes sense except in the light of evolution')             "
   ]
  },
  {
   "cell_type": "code",
   "execution_count": 11,
   "metadata": {
    "collapsed": false
   },
   "outputs": [
    {
     "ename": "ImportError",
     "evalue": "The 'enchant' C library was not found. Please install it via your OS package manager, or use a pre-built binary wheel from PyPI.",
     "output_type": "error",
     "traceback": [
      "\u001b[1;31m---------------------------------------------------------------------------\u001b[0m",
      "\u001b[1;31mImportError\u001b[0m                               Traceback (most recent call last)",
      "\u001b[1;32m<ipython-input-11-be94a407aebb>\u001b[0m in \u001b[0;36m<module>\u001b[1;34m()\u001b[0m\n\u001b[1;32m----> 1\u001b[1;33m \u001b[1;32mimport\u001b[0m \u001b[0menchant\u001b[0m\u001b[1;33m\u001b[0m\u001b[0m\n\u001b[0m",
      "\u001b[1;32m/home/ucsd-train27/anaconda3/lib/python3.5/site-packages/enchant/__init__.py\u001b[0m in \u001b[0;36m<module>\u001b[1;34m()\u001b[0m\n\u001b[0;32m     90\u001b[0m \u001b[1;33m\u001b[0m\u001b[0m\n\u001b[0;32m     91\u001b[0m \u001b[1;32mtry\u001b[0m\u001b[1;33m:\u001b[0m\u001b[1;33m\u001b[0m\u001b[0m\n\u001b[1;32m---> 92\u001b[1;33m     \u001b[1;32mfrom\u001b[0m \u001b[0menchant\u001b[0m \u001b[1;32mimport\u001b[0m \u001b[0m_enchant\u001b[0m \u001b[1;32mas\u001b[0m \u001b[0m_e\u001b[0m\u001b[1;33m\u001b[0m\u001b[0m\n\u001b[0m\u001b[0;32m     93\u001b[0m \u001b[1;32mexcept\u001b[0m \u001b[0mImportError\u001b[0m\u001b[1;33m:\u001b[0m\u001b[1;33m\u001b[0m\u001b[0m\n\u001b[0;32m     94\u001b[0m     \u001b[1;32mif\u001b[0m \u001b[1;32mnot\u001b[0m \u001b[0mos\u001b[0m\u001b[1;33m.\u001b[0m\u001b[0menviron\u001b[0m\u001b[1;33m.\u001b[0m\u001b[0mget\u001b[0m\u001b[1;33m(\u001b[0m\u001b[1;34m\"PYENCHANT_IGNORE_MISSING_LIB\"\u001b[0m\u001b[1;33m,\u001b[0m\u001b[1;32mFalse\u001b[0m\u001b[1;33m)\u001b[0m\u001b[1;33m:\u001b[0m\u001b[1;33m\u001b[0m\u001b[0m\n",
      "\u001b[1;32m/home/ucsd-train27/anaconda3/lib/python3.5/site-packages/enchant/_enchant.py\u001b[0m in \u001b[0;36m<module>\u001b[1;34m()\u001b[0m\n\u001b[0;32m    141\u001b[0m          \u001b[1;34m\"Please install it via your OS package manager, \"\u001b[0m\u001b[0;31m\\\u001b[0m\u001b[1;33m\u001b[0m\u001b[0m\n\u001b[0;32m    142\u001b[0m          \u001b[1;34m\"or use a pre-built binary wheel from PyPI.\"\u001b[0m\u001b[1;33m\u001b[0m\u001b[0m\n\u001b[1;32m--> 143\u001b[1;33m    \u001b[1;32mraise\u001b[0m \u001b[0mImportError\u001b[0m\u001b[1;33m(\u001b[0m\u001b[0mmsg\u001b[0m\u001b[1;33m)\u001b[0m\u001b[1;33m\u001b[0m\u001b[0m\n\u001b[0m\u001b[0;32m    144\u001b[0m \u001b[1;33m\u001b[0m\u001b[0m\n\u001b[0;32m    145\u001b[0m \u001b[1;33m\u001b[0m\u001b[0m\n",
      "\u001b[1;31mImportError\u001b[0m: The 'enchant' C library was not found. Please install it via your OS package manager, or use a pre-built binary wheel from PyPI."
     ]
    }
   ],
   "source": [
    ">>> import enchant"
   ]
  },
  {
   "cell_type": "code",
   "execution_count": null,
   "metadata": {
    "collapsed": true
   },
   "outputs": [],
   "source": []
  }
 ],
 "metadata": {
  "kernelspec": {
   "display_name": "Python 3",
   "language": "python",
   "name": "python3"
  },
  "language_info": {
   "codemirror_mode": {
    "name": "ipython",
    "version": 3
   },
   "file_extension": ".py",
   "mimetype": "text/x-python",
   "name": "python",
   "nbconvert_exporter": "python",
   "pygments_lexer": "ipython3",
   "version": "3.5.1"
  }
 },
 "nbformat": 4,
 "nbformat_minor": 0
}
